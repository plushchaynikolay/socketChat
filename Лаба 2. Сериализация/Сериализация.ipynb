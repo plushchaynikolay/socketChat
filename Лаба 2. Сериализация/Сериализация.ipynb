{
 "cells": [
  {
   "cell_type": "markdown",
   "metadata": {},
   "source": [
    "# Лабораторная 2. Форматы сериализации данных"
   ]
  },
  {
   "cell_type": "markdown",
   "metadata": {},
   "source": [
    "Импорты библиотек"
   ]
  },
  {
   "cell_type": "code",
   "execution_count": 66,
   "metadata": {},
   "outputs": [],
   "source": [
    "import sys\n",
    "# sys.path.append('C:\\\\Program Files (x86)\\\\Python37-32\\\\Lib\\\\site-packages')\n",
    "import timeit\n",
    "import tabulate\n",
    "import time"
   ]
  },
  {
   "cell_type": "markdown",
   "metadata": {},
   "source": [
    "Структура для сериализации"
   ]
  },
  {
   "cell_type": "code",
   "execution_count": 49,
   "metadata": {},
   "outputs": [],
   "source": [
    "d = {\n",
    " 'words': \"\"\"\n",
    "For these were the days of Resdaynia, when Chimer and Dwemer lived under the wise and benevolent rule of the ALMSIVI and their champion the Hortator, though the Dwemer had become foolish and challenged their masters.\n",
    "Out of their fortresses they came with golden ballistae that walked and mighty atronachs and things that spat flame and things that made killing songs. Their king was Dumac Dwarf-Orc, but their high priest was Kagrenac the Blighter.\n",
    "Under mountains and over them the war with the Dwemer was raged, and then came the northern men to help Kagrenac and they brought Ysmir again.\n",
    "Leading the armies of the Chimer was the slave that would not perish, the Hortator Nerevar, who had traded his axe for the Ethos Knife. He slew Dumac at Red Mountain and saw the heart bone for the first time.\n",
    "Men of brass destroyed the eleven gates of the Mourning Hold and behind them came the Dwemeri architects of tone. Ayem threw down her cloak and became the Face-Snaked Queen of the Three in One. Those that looked upon her were overcome by the meanings of the stars.\n",
    "Under the sea, Seht stirred and brought the army he had been working on in the castles of glass and coral. Clockwork dreughs, mockeries of the Dwemeri war machines, rose up from the seas and took their counterparts back beneath, where they were swallowed forever by the sea.\n",
    "Red Mountain exploded as the Hortator went too far inside, seeking the Sharmat.\n",
    "Dwemeri high priest Kagrenac then revealed that which he had built in the image of Vivec. It was a walking star, which burnt the armies of the Triune and destroyed the heartland of Veloth, creating the Inner Sea.\n",
    "Each of the aspects of the ALMSIVI then rose up together, combining as one, and showed the world the sixth path. Ayem took from the star its fire, Seht took from it its mystery, and Vehk took from it its feet, which had been constructed before the gift of Molag Bal and destroyed in the manner of truth: by a great hammering. When the soul of the Dwemer could walk no more, they were removed from this world.\n",
    "Resdaynia was no more. It had been redeemed of all the iniquities of the foolish. The ALMSIVI drew nets from the Beginning Place and captured the ash of Red Mountain, which they knew was the Blight of the Dwemer and that would serve only to infect the whole of the middle world, and ate it. ALTADOON DUNMERI!\n",
    "The beginning of the words is ALMSIVI. I give you this as Vivec.\n",
    " \"\"\",\n",
    " 'list': [x for x in range(100)],\n",
    " 'dict': dict((str(i),'a') for i in range(100)),\n",
    " 'int': 100,\n",
    " 'float': 100.123456\n",
    "}"
   ]
  },
  {
   "cell_type": "markdown",
   "metadata": {},
   "source": [
    "Устанавливаем количество циклов сериализации/десериализации"
   ]
  },
  {
   "cell_type": "code",
   "execution_count": 76,
   "metadata": {},
   "outputs": [],
   "source": [
    "loops = 1000"
   ]
  },
  {
   "cell_type": "markdown",
   "metadata": {},
   "source": [
    "Положим код структуры в объект <code>message</code>"
   ]
  },
  {
   "cell_type": "code",
   "execution_count": 58,
   "metadata": {},
   "outputs": [],
   "source": [
    "message = 'd = %s' %d"
   ]
  },
  {
   "cell_type": "markdown",
   "metadata": {},
   "source": [
    "Код для инициализации будет передаваться в функцию <code>timeit()</code> подготовки измеряемого процесса."
   ]
  },
  {
   "cell_type": "code",
   "execution_count": 52,
   "metadata": {},
   "outputs": [],
   "source": [
    "setup_pickle = '''%s\n",
    "import pickle\n",
    "scr = pickle.dumps(d)''' %message\n",
    "\n",
    "setup_xml = '''%s  \n",
    "import xml_marshaller.xml_marshaller as xml_marshaller\n",
    "scr = xml_marshaller.dumps(d)''' %message\n",
    "\n",
    "setup_json = '''%s\n",
    "import json\n",
    "scr = json.dumps(d)''' %message\n",
    "\n",
    "setup_msgpack = '''%s\n",
    "import msgpack\n",
    "scr = msgpack.dumps(d)''' %message\n",
    "\n",
    "setup_yaml = '''%s\n",
    "import yaml\n",
    "scr = yaml.dump(d)''' %message"
   ]
  },
  {
   "cell_type": "markdown",
   "metadata": {},
   "source": [
    "Список тестов для отработки сериализации/десериализации. Состоит из \n",
    "- заголовка\n",
    "- инициализации\n",
    "- функции сериализации \n",
    "- функции десериализации"
   ]
  },
  {
   "cell_type": "code",
   "execution_count": 72,
   "metadata": {},
   "outputs": [],
   "source": [
    "tests = [\n",
    "    # (title, setup, enc_test, dec_test)\n",
    "    ('pickle (buil-in)', setup_pickle, 'scr = pickle.dumps(d)', 'pickle.loads(scr)'),\n",
    "    ('XML', setup_xml, 'scr = xml_marshaller.dumps(d)', 'xml_marshaller.loads(scr)'),\n",
    "    ('JSON', setup_json, 'scr = json.dumps(d)', 'json.loads(scr)'),\n",
    "    ('MessagePack', setup_msgpack, 'scr = msgpack.dumps(d)', 'msgpack.loads(scr)'),\n",
    "    ('YAML', setup_yaml, 'scr = yaml.dump(d)', 'yaml.load(scr)')\n",
    "]"
   ]
  },
  {
   "cell_type": "markdown",
   "metadata": {},
   "source": [
    "Списки для хранения результатов работы."
   ]
  },
  {
   "cell_type": "code",
   "execution_count": 77,
   "metadata": {},
   "outputs": [],
   "source": [
    "enc_table = []\n",
    "enc_table.insert(0, ['Package', 'Seconds', 'Size'])\n",
    "dec_table = []\n",
    "dec_table.insert(0, ['Package', 'Seconds'])"
   ]
  },
  {
   "cell_type": "markdown",
   "metadata": {},
   "source": [
    "Выполнение тестов."
   ]
  },
  {
   "cell_type": "code",
   "execution_count": 82,
   "metadata": {},
   "outputs": [
    {
     "name": "stdout",
     "output_type": "stream",
     "text": [
      "b'<marshal><dictionary id=\"i2\"><string>dict</string><dictionary id=\"i3\"><string>0</string><string>a</string><string>1</string><string>a</string><string>10</string><string>a</string><string>11</string><string>a</string><string>12</string><string>a</string><string>13</string><string>a</string><string>14</string><string>a</string><string>15</string><string>a</string><string>16</string><string>a</string><string>17</string><string>a</string><string>18</string><string>a</string><string>19</string><string>a</string><string>2</string><string>a</string><string>20</string><string>a</string><string>21</string><string>a</string><string>22</string><string>a</string><string>23</string><string>a</string><string>24</string><string>a</string><string>25</string><string>a</string><string>26</string><string>a</string><string>27</string><string>a</string><string>28</string><string>a</string><string>29</string><string>a</string><string>3</string><string>a</string><string>30</string><string>a</string><string>31</string><string>a</string><string>32</string><string>a</string><string>33</string><string>a</string><string>34</string><string>a</string><string>35</string><string>a</string><string>36</string><string>a</string><string>37</string><string>a</string><string>38</string><string>a</string><string>39</string><string>a</string><string>4</string><string>a</string><string>40</string><string>a</string><string>41</string><string>a</string><string>42</string><string>a</string><string>43</string><string>a</string><string>44</string><string>a</string><string>45</string><string>a</string><string>46</string><string>a</string><string>47</string><string>a</string><string>48</string><string>a</string><string>49</string><string>a</string><string>5</string><string>a</string><string>50</string><string>a</string><string>51</string><string>a</string><string>52</string><string>a</string><string>53</string><string>a</string><string>54</string><string>a</string><string>55</string><string>a</string><string>56</string><string>a</string><string>57</string><string>a</string><string>58</string><string>a</string><string>59</string><string>a</string><string>6</string><string>a</string><string>60</string><string>a</string><string>61</string><string>a</string><string>62</string><string>a</string><string>63</string><string>a</string><string>64</string><string>a</string><string>65</string><string>a</string><string>66</string><string>a</string><string>67</string><string>a</string><string>68</string><string>a</string><string>69</string><string>a</string><string>7</string><string>a</string><string>70</string><string>a</string><string>71</string><string>a</string><string>72</string><string>a</string><string>73</string><string>a</string><string>74</string><string>a</string><string>75</string><string>a</string><string>76</string><string>a</string><string>77</string><string>a</string><string>78</string><string>a</string><string>79</string><string>a</string><string>8</string><string>a</string><string>80</string><string>a</string><string>81</string><string>a</string><string>82</string><string>a</string><string>83</string><string>a</string><string>84</string><string>a</string><string>85</string><string>a</string><string>86</string><string>a</string><string>87</string><string>a</string><string>88</string><string>a</string><string>89</string><string>a</string><string>9</string><string>a</string><string>90</string><string>a</string><string>91</string><string>a</string><string>92</string><string>a</string><string>93</string><string>a</string><string>94</string><string>a</string><string>95</string><string>a</string><string>96</string><string>a</string><string>97</string><string>a</string><string>98</string><string>a</string><string>99</string><string>a</string></dictionary><string>float</string><float>100.123456</float><string>int</string><int>100</int><string>list</string><list id=\"i4\"><int>0</int><int>1</int><int>2</int><int>3</int><int>4</int><int>5</int><int>6</int><int>7</int><int>8</int><int>9</int><int>10</int><int>11</int><int>12</int><int>13</int><int>14</int><int>15</int><int>16</int><int>17</int><int>18</int><int>19</int><int>20</int><int>21</int><int>22</int><int>23</int><int>24</int><int>25</int><int>26</int><int>27</int><int>28</int><int>29</int><int>30</int><int>31</int><int>32</int><int>33</int><int>34</int><int>35</int><int>36</int><int>37</int><int>38</int><int>39</int><int>40</int><int>41</int><int>42</int><int>43</int><int>44</int><int>45</int><int>46</int><int>47</int><int>48</int><int>49</int><int>50</int><int>51</int><int>52</int><int>53</int><int>54</int><int>55</int><int>56</int><int>57</int><int>58</int><int>59</int><int>60</int><int>61</int><int>62</int><int>63</int><int>64</int><int>65</int><int>66</int><int>67</int><int>68</int><int>69</int><int>70</int><int>71</int><int>72</int><int>73</int><int>74</int><int>75</int><int>76</int><int>77</int><int>78</int><int>79</int><int>80</int><int>81</int><int>82</int><int>83</int><int>84</int><int>85</int><int>86</int><int>87</int><int>88</int><int>89</int><int>90</int><int>91</int><int>92</int><int>93</int><int>94</int><int>95</int><int>96</int><int>97</int><int>98</int><int>99</int></list><string>words</string><string>\\nFor these were the days of Resdaynia, when Chimer and Dwemer lived under the wise and benevolent rule of the ALMSIVI and their champion the Hortator, though the Dwemer had become foolish and challenged their masters.\\nOut of their fortresses they came with golden ballistae that walked and mighty atronachs and things that spat flame and things that made killing songs. Their king was Dumac Dwarf-Orc, but their high priest was Kagrenac the Blighter.\\nUnder mountains and over them the war with the Dwemer was raged, and then came the northern men to help Kagrenac and they brought Ysmir again.\\nLeading the armies of the Chimer was the slave that would not perish, the Hortator Nerevar, who had traded his axe for the Ethos Knife. He slew Dumac at Red Mountain and saw the heart bone for the first time.\\nMen of brass destroyed the eleven gates of the Mourning Hold and behind them came the Dwemeri architects of tone. Ayem threw down her cloak and became the Face-Snaked Queen of the Three in One. Those that looked upon her were overcome by the meanings of the stars.\\nUnder the sea, Seht stirred and brought the army he had been working on in the castles of glass and coral. Clockwork dreughs, mockeries of the Dwemeri war machines, rose up from the seas and took their counterparts back beneath, where they were swallowed forever by the sea.\\nRed Mountain exploded as the Hortator went too far inside, seeking the Sharmat.\\nDwemeri high priest Kagrenac then revealed that which he had built in the image of Vivec. It was a walking star, which burnt the armies of the Triune and destroyed the heartland of Veloth, creating the Inner Sea.\\nEach of the aspects of the ALMSIVI then rose up together, combining as one, and showed the world the sixth path. Ayem took from the star its fire, Seht took from it its mystery, and Vehk took from it its feet, which had been constructed before the gift of Molag Bal and destroyed in the manner of truth: by a great hammering. When the soul of the Dwemer could walk no more, they were removed from this world.\\nResdaynia was no more. It had been redeemed of all the iniquities of the foolish. The ALMSIVI drew nets from the Beginning Place and captured the ash of Red Mountain, which they knew was the Blight of the Dwemer and that would serve only to infect the whole of the middle world, and ate it. ALTADOON DUNMERI!\\nThe beginning of the words is ALMSIVI. I give you this as Vivec.\\n </string></dictionary></marshal>'\n",
      "{\"words\": \"\\nFor these were the days of Resdaynia, when Chimer and Dwemer lived under the wise and benevolent rule of the ALMSIVI and their champion the Hortator, though the Dwemer had become foolish and challenged their masters.\\nOut of their fortresses they came with golden ballistae that walked and mighty atronachs and things that spat flame and things that made killing songs. Their king was Dumac Dwarf-Orc, but their high priest was Kagrenac the Blighter.\\nUnder mountains and over them the war with the Dwemer was raged, and then came the northern men to help Kagrenac and they brought Ysmir again.\\nLeading the armies of the Chimer was the slave that would not perish, the Hortator Nerevar, who had traded his axe for the Ethos Knife. He slew Dumac at Red Mountain and saw the heart bone for the first time.\\nMen of brass destroyed the eleven gates of the Mourning Hold and behind them came the Dwemeri architects of tone. Ayem threw down her cloak and became the Face-Snaked Queen of the Three in One. Those that looked upon her were overcome by the meanings of the stars.\\nUnder the sea, Seht stirred and brought the army he had been working on in the castles of glass and coral. Clockwork dreughs, mockeries of the Dwemeri war machines, rose up from the seas and took their counterparts back beneath, where they were swallowed forever by the sea.\\nRed Mountain exploded as the Hortator went too far inside, seeking the Sharmat.\\nDwemeri high priest Kagrenac then revealed that which he had built in the image of Vivec. It was a walking star, which burnt the armies of the Triune and destroyed the heartland of Veloth, creating the Inner Sea.\\nEach of the aspects of the ALMSIVI then rose up together, combining as one, and showed the world the sixth path. Ayem took from the star its fire, Seht took from it its mystery, and Vehk took from it its feet, which had been constructed before the gift of Molag Bal and destroyed in the manner of truth: by a great hammering. When the soul of the Dwemer could walk no more, they were removed from this world.\\nResdaynia was no more. It had been redeemed of all the iniquities of the foolish. The ALMSIVI drew nets from the Beginning Place and captured the ash of Red Mountain, which they knew was the Blight of the Dwemer and that would serve only to infect the whole of the middle world, and ate it. ALTADOON DUNMERI!\\nThe beginning of the words is ALMSIVI. I give you this as Vivec.\\n \", \"list\": [0, 1, 2, 3, 4, 5, 6, 7, 8, 9, 10, 11, 12, 13, 14, 15, 16, 17, 18, 19, 20, 21, 22, 23, 24, 25, 26, 27, 28, 29, 30, 31, 32, 33, 34, 35, 36, 37, 38, 39, 40, 41, 42, 43, 44, 45, 46, 47, 48, 49, 50, 51, 52, 53, 54, 55, 56, 57, 58, 59, 60, 61, 62, 63, 64, 65, 66, 67, 68, 69, 70, 71, 72, 73, 74, 75, 76, 77, 78, 79, 80, 81, 82, 83, 84, 85, 86, 87, 88, 89, 90, 91, 92, 93, 94, 95, 96, 97, 98, 99], \"dict\": {\"0\": \"a\", \"1\": \"a\", \"2\": \"a\", \"3\": \"a\", \"4\": \"a\", \"5\": \"a\", \"6\": \"a\", \"7\": \"a\", \"8\": \"a\", \"9\": \"a\", \"10\": \"a\", \"11\": \"a\", \"12\": \"a\", \"13\": \"a\", \"14\": \"a\", \"15\": \"a\", \"16\": \"a\", \"17\": \"a\", \"18\": \"a\", \"19\": \"a\", \"20\": \"a\", \"21\": \"a\", \"22\": \"a\", \"23\": \"a\", \"24\": \"a\", \"25\": \"a\", \"26\": \"a\", \"27\": \"a\", \"28\": \"a\", \"29\": \"a\", \"30\": \"a\", \"31\": \"a\", \"32\": \"a\", \"33\": \"a\", \"34\": \"a\", \"35\": \"a\", \"36\": \"a\", \"37\": \"a\", \"38\": \"a\", \"39\": \"a\", \"40\": \"a\", \"41\": \"a\", \"42\": \"a\", \"43\": \"a\", \"44\": \"a\", \"45\": \"a\", \"46\": \"a\", \"47\": \"a\", \"48\": \"a\", \"49\": \"a\", \"50\": \"a\", \"51\": \"a\", \"52\": \"a\", \"53\": \"a\", \"54\": \"a\", \"55\": \"a\", \"56\": \"a\", \"57\": \"a\", \"58\": \"a\", \"59\": \"a\", \"60\": \"a\", \"61\": \"a\", \"62\": \"a\", \"63\": \"a\", \"64\": \"a\", \"65\": \"a\", \"66\": \"a\", \"67\": \"a\", \"68\": \"a\", \"69\": \"a\", \"70\": \"a\", \"71\": \"a\", \"72\": \"a\", \"73\": \"a\", \"74\": \"a\", \"75\": \"a\", \"76\": \"a\", \"77\": \"a\", \"78\": \"a\", \"79\": \"a\", \"80\": \"a\", \"81\": \"a\", \"82\": \"a\", \"83\": \"a\", \"84\": \"a\", \"85\": \"a\", \"86\": \"a\", \"87\": \"a\", \"88\": \"a\", \"89\": \"a\", \"90\": \"a\", \"91\": \"a\", \"92\": \"a\", \"93\": \"a\", \"94\": \"a\", \"95\": \"a\", \"96\": \"a\", \"97\": \"a\", \"98\": \"a\", \"99\": \"a\"}, \"int\": 100, \"float\": 100.123456}\n"
     ]
    }
   ],
   "source": [
    "for title, setup, enc, dec in tests:\n",
    "#     result = timeit.timeit(enc, setup, number = loops)\n",
    "    start_time = time.time()\n",
    "    exec(setup)\n",
    "    for i in range(loops):\n",
    "        exec(enc)\n",
    "#     exec(setup) # выполним сериализацию ещё один раз для вычисления объема сериализованного объекта\n",
    "    result = time.time() - start_time\n",
    "    enc_table.append([title, result, sys.getsizeof(scr)])\n",
    "    if title == 'XML' or title == 'JSON':\n",
    "        print(scr)\n",
    "    \n",
    "    start_time = time.time()\n",
    "    for i in range(loops):\n",
    "        exec(dec)\n",
    "#     result = timeit.timeit(dec, setup, number = loops)\n",
    "    result = time.time() - start_time\n",
    "    dec_table.append([title, result])"
   ]
  },
  {
   "cell_type": "markdown",
   "metadata": {},
   "source": [
    "Вывод сводной таблицы"
   ]
  },
  {
   "cell_type": "code",
   "execution_count": 81,
   "metadata": {},
   "outputs": [
    {
     "name": "stdout",
     "output_type": "stream",
     "text": [
      "\n",
      "Encoding Test (1000 loops)\n",
      "Package               Seconds    Size\n",
      "----------------  -----------  ------\n",
      "pickle (buil-in)  0.0388768      3841\n",
      "XML               1.881          7701\n",
      "JSON              0.0498672      4027\n",
      "MessagePack       0.0538566      3089\n",
      "YAML              9.7439         3985\n",
      "pickle (buil-in)  4.78938e-05    3841\n",
      "XML               0.00230383     7701\n",
      "JSON              5.28605e-05    4027\n",
      "MessagePack       5.38564e-05    3089\n",
      "YAML              0.00905278     3985\n",
      "\n",
      "Decoding Test (1000 loops)\n",
      "Package                Seconds\n",
      "----------------  ------------\n",
      "pickle (buil-in)   0.0378883\n",
      "XML                1.37133\n",
      "JSON               0.0448809\n",
      "MessagePack        0.0179501\n",
      "YAML              16.7542\n",
      "pickle (buil-in)   4.78754e-05\n",
      "XML                0.00139427\n",
      "JSON               5.98385e-05\n",
      "MessagePack        2.09436e-05\n",
      "YAML               0.0171271\n"
     ]
    }
   ],
   "source": [
    "# enc_table.sort(key=lambda x: x[1])\n",
    "\n",
    "# dec_table.sort(key=lambda x: x[1])\n",
    "\n",
    "print (\"\\nEncoding Test (%d loops)\" % loops)\n",
    "# print(enc_table)\n",
    "print (tabulate.tabulate(enc_table, headers=\"firstrow\"))\n",
    "print (\"\\nDecoding Test (%d loops)\" % loops)\n",
    "# print(dec_table)\n",
    "print (tabulate.tabulate(dec_table, headers=\"firstrow\"))"
   ]
  },
  {
   "cell_type": "markdown",
   "metadata": {},
   "source": [
    "Занесем полученные данные в таблицу Exel"
   ]
  }
 ],
 "metadata": {
  "kernelspec": {
   "display_name": "Python 3",
   "language": "python",
   "name": "python3"
  },
  "language_info": {
   "codemirror_mode": {
    "name": "ipython",
    "version": 3
   },
   "file_extension": ".py",
   "mimetype": "text/x-python",
   "name": "python",
   "nbconvert_exporter": "python",
   "pygments_lexer": "ipython3",
   "version": "3.6.7"
  }
 },
 "nbformat": 4,
 "nbformat_minor": 2
}
